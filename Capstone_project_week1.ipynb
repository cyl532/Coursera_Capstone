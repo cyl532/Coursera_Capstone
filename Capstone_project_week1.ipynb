{
    "nbformat_minor": 1, 
    "cells": [
        {
            "source": "# Part 1: Introduction", 
            "cell_type": "markdown", 
            "metadata": {
                "collapsed": true
            }
        }, 
        {
            "source": "Singapore Mass Rapid Transit (MRT) is one of the essential modes of transportation for many residents and tourists. With 119 stations in operation as of August 2019 and more than 60 stations under construction, the Singapore MRT system network is spanning across the island nation, forming the backbone of the public transport system in Singapore.\n\nMost of the MRT stations in Singapore are strategically built according to the nation's masterplan for transportation, which will eventually support the growth and development of Singapore as a world class city. Many of the stations are integrated with other public transport services, such as the bus interchanges/terminals or Light Rail Transit (LRT), residential areas, business districts, shopping malls etc. As such, each MRT station can be regarded as a small neighbourhood, and existence of the MRT stations will gradually shape the uniqueness of the community around it.", 
            "cell_type": "markdown", 
            "metadata": {}
        }, 
        {
            "source": "For this project, **we will be looking at the neighbourhoods surrounding the MRT stations and classify them accordingly using the data obtaining via Foursquare**. This analysis will be useful for city planner to get an insight of each of the neighbourhood shaped by the MRT stations (uniqueness quality that can be used to promote tourism), identify gaps or areas of improvement (lack of certain amenities compares to other neighbourhoods), and future expansion possibilities (line extension or new bus interchange etc.).\n\nFor the completeness of this project (also due to my passion of backpack travelling and rely heavily on the public transport system of the cities I visit), **we will identify a neighbourhood that is most suitable to operate a Youth Hostel that targeting backpack travellers from all over the world.**", 
            "cell_type": "markdown", 
            "metadata": {}
        }, 
        {
            "source": "# Part 2: Data", 
            "cell_type": "markdown", 
            "metadata": {}
        }, 
        {
            "source": "Several data sources will be used for this project but not limited to:\n\n1. List of MRT stations (considering those currently in-operation as of 2019) - [Wikipedia](https://en.wikipedia.org/wiki/List_of_Singapore_MRT_stations)\n2. Explore venue types around each station - Foursquare\n3. Population demographic, ridership statistical data and other official statistic as required during the project works- data.gov.sg\n", 
            "cell_type": "markdown", 
            "metadata": {}
        }, 
        {
            "source": "# To be continued for week 2", 
            "cell_type": "markdown", 
            "metadata": {}
        }, 
        {
            "execution_count": null, 
            "cell_type": "code", 
            "metadata": {}, 
            "outputs": [], 
            "source": ""
        }
    ], 
    "metadata": {
        "kernelspec": {
            "display_name": "Python 3.6", 
            "name": "python3", 
            "language": "python"
        }, 
        "language_info": {
            "mimetype": "text/x-python", 
            "nbconvert_exporter": "python", 
            "version": "3.6.8", 
            "name": "python", 
            "file_extension": ".py", 
            "pygments_lexer": "ipython3", 
            "codemirror_mode": {
                "version": 3, 
                "name": "ipython"
            }
        }
    }, 
    "nbformat": 4
}